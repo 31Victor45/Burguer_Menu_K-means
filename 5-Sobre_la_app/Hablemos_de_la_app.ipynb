{
 "cells": [
  {
   "cell_type": "markdown",
   "id": "4036528e",
   "metadata": {},
   "source": [
    "# Conclusiones finales del proyecto\n",
    "\n"
   ]
  }
 ],
 "metadata": {
  "language_info": {
   "name": "python"
  }
 },
 "nbformat": 4,
 "nbformat_minor": 5
}
