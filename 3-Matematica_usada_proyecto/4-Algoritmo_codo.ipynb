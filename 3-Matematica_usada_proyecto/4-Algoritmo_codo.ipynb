{
 "cells": [
  {
   "cell_type": "markdown",
   "id": "aa78b27f",
   "metadata": {},
   "source": [
    "# Algorimo del codo\n",
    "\n",
    "El algoritmo del codo es una técnica utilizada para determinar el número óptimo de clusters (k) en el algoritmo de agrupamiento K-means. El procedimiento es el siguiente:\n",
    "\n",
    "1. Ejecuta K-means para diferentes valores de k (por ejemplo, de 1 a 10).\n",
    "2. Para cada valor de k, calcula la suma de los errores cuadráticos dentro del cluster (inertia o Within-Cluster Sum of Squares, WCSS).\n",
    "3. Grafica los valores de WCSS en función de k.\n",
    "4. Observa el gráfico: el punto donde la disminución de WCSS comienza a ser menos pronunciada (formando un \"codo\") indica el número óptimo de clusters.  \n",
    "   \n",
    "Para complementar la explicacion dejo aqui la imagen del grafico que usamos cuando aplicamos el algoritmo del codo en este proyecto\n",
    "\n",
    "<center><img src = \"img/graph.png\" width = 400 height = 300></center>\n",
    "\n",
    "Este método ayuda a evitar tanto el sobreajuste (demasiados clusters) como el subajuste (muy pocos clusters)."
   ]
  }
 ],
 "metadata": {
  "language_info": {
   "name": "python"
  }
 },
 "nbformat": 4,
 "nbformat_minor": 5
}
