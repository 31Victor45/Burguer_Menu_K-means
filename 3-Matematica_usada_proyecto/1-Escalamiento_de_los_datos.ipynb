{
 "cells": [
  {
   "cell_type": "markdown",
   "id": "9d128cec",
   "metadata": {},
   "source": [
    "#  Escalamiento de Datos\n",
    "\n",
    "El escalamiento de datos es un proceso de pre-procesamiento fundamental en machine learning que ajusta la escala de las características numéricas de un conjunto de datos para que estén en un rango similar.\n",
    "\n",
    "### **¿Por qué se usa en K-Means?**\n",
    "\n",
    "El algoritmo K-Means calcula las distancias entre los puntos de datos y los centroides para agruparlos. Si las características tienen escalas muy diferentes, la variable con el rango de valores más grande (por ejemplo, las calorías, que pueden ir hasta 1300) tendrá una influencia mucho mayor en el cálculo de la distancia que la variable con un rango más pequeño (como el colesterol, que va hasta 400).\n",
    "\n",
    "El escalamiento evita este sesgo, asegurando que cada característica contribuya de manera equitativa a la distancia. Esto permite que el algoritmo funcione de manera más justa y que los clusters se formen de manera más precisa.\n",
    "\n",
    "### **Cómo se usa en el proyecto**\n",
    "\n",
    "En nuestro proyecto, utilizamos la técnica de **estandarización** con `StandardScaler`. Este método transforma los datos de modo que tengan una media ($\\mu$) de 0 y una desviación estándar ($\\sigma$) de 1.\n",
    "\n",
    "La fórmula de estandarización para un punto de datos $x$ es:\n",
    "\n",
    "$$x' = \\frac{x - \\mu}{\\sigma}$$\n",
    "\n",
    "Donde:\n",
    "* $x'$ es el valor escalado.\n",
    "* $x$ es el valor original.\n",
    "* $\\mu$ es la media de la característica.\n",
    "* $\\sigma$ es la desviación estándar de la característica.\n",
    "\n",
    "De esta manera, en el código de `functions.py`, las variables 'Calories' y 'Cholesterol (mg)' se escalan a un rango comparable antes de que el algoritmo K-Means las procese, lo que garantiza que la formación de los clusters se base en la importancia relativa de ambas variables y no en sus magnitudes."
   ]
  }
 ],
 "metadata": {
  "language_info": {
   "name": "python"
  }
 },
 "nbformat": 4,
 "nbformat_minor": 5
}
