{
 "cells": [
  {
   "cell_type": "markdown",
   "id": "9e43513d",
   "metadata": {},
   "source": [
    "# Algoritmo K-means++\n",
    "\n",
    "Cuando investigaba acerca del algorimo K-means, descubri que Sklearn usa el algorimo K-Means++ por defecto para la inicialización de los centroides, en su implementación el algoritmo K-Means esto lo hace con la finalidad de que los centroides esten lo mas dispersos posibles y con esto asegurar una mejor calidad de los clusters y una convergencia más rápida del algoritmo en comparación con la inicialización puramente aleatoria (de los centroides)\n",
    "\n",
    "El algoritmo **K-means++** es una mejora sobre el método tradicional de inicialización de centroides en k-means. Su objetivo es elegir los centroides iniciales de manera que estén lo más separados posible, lo que ayuda a evitar malas soluciones locales y mejora la convergencia.\n",
    "\n",
    "**Pasos del algoritmo k-means++:**\n",
    "\n",
    "1. Selecciona el primer centroide al azar de entre los puntos de datos.\n",
    "2. Para cada punto restante, calcula la distancia al centroide más cercano ya seleccionado.\n",
    "3. Selecciona el siguiente centroide de manera probabilística: un punto tiene más probabilidad de ser elegido cuanto mayor sea su distancia al centroide más cercano.\n",
    "4. Repite los pasos 2 y 3 hasta seleccionar k centroides.\n",
    "5. Continúa con el algoritmo k-means tradicional (asignar puntos al centroide más cercano y actualizar centroides).\n",
    "\n",
    "**Ventajas:**\n",
    "- Mejora la calidad de los clusters.\n",
    "- Reduce la probabilidad de converger a una mala solución local.\n",
    "- Es el método por defecto en `sklearn.cluster.KMeans` (`init='k-means++'`).\n",
    "\n"
   ]
  }
 ],
 "metadata": {
  "language_info": {
   "name": "python"
  }
 },
 "nbformat": 4,
 "nbformat_minor": 5
}
