{
 "cells": [
  {
   "cell_type": "markdown",
   "id": "494d985e",
   "metadata": {},
   "source": [
    "# Limpieza de datos\n",
    "\n",
    "En este jupiter me centrare en la limpieza y tratamiento de los datos, todo con el fin de que esten en optimas condiciones para su posterior uso en el modelo k-means que queremos crear"
   ]
  },
  {
   "cell_type": "code",
   "execution_count": 3,
   "id": "5e4e5529",
   "metadata": {},
   "outputs": [],
   "source": [
    "# Importamos las librerias que usaremos\n",
    "import pandas as pd\n",
    "import matplotlib.pyplot as plt\n",
    "import seaborn as sns"
   ]
  },
  {
   "cell_type": "code",
   "execution_count": null,
   "id": "893e329e",
   "metadata": {},
   "outputs": [
    {
     "data": {
      "text/html": [
       "<div>\n",
       "<style scoped>\n",
       "    .dataframe tbody tr th:only-of-type {\n",
       "        vertical-align: middle;\n",
       "    }\n",
       "\n",
       "    .dataframe tbody tr th {\n",
       "        vertical-align: top;\n",
       "    }\n",
       "\n",
       "    .dataframe thead th {\n",
       "        text-align: right;\n",
       "    }\n",
       "</style>\n",
       "<table border=\"1\" class=\"dataframe\">\n",
       "  <thead>\n",
       "    <tr style=\"text-align: right;\">\n",
       "      <th></th>\n",
       "      <th>Calories</th>\n",
       "      <th>Cholesterol (mg)</th>\n",
       "    </tr>\n",
       "  </thead>\n",
       "  <tbody>\n",
       "    <tr>\n",
       "      <th>0</th>\n",
       "      <td>660.0</td>\n",
       "      <td>90.0</td>\n",
       "    </tr>\n",
       "    <tr>\n",
       "      <th>1</th>\n",
       "      <td>740.0</td>\n",
       "      <td>115.0</td>\n",
       "    </tr>\n",
       "    <tr>\n",
       "      <th>2</th>\n",
       "      <td>790.0</td>\n",
       "      <td>125.0</td>\n",
       "    </tr>\n",
       "    <tr>\n",
       "      <th>3</th>\n",
       "      <td>900.0</td>\n",
       "      <td>175.0</td>\n",
       "    </tr>\n",
       "    <tr>\n",
       "      <th>4</th>\n",
       "      <td>980.0</td>\n",
       "      <td>195.0</td>\n",
       "    </tr>\n",
       "  </tbody>\n",
       "</table>\n",
       "</div>"
      ],
      "text/plain": [
       "   Calories  Cholesterol (mg)\n",
       "0     660.0              90.0\n",
       "1     740.0             115.0\n",
       "2     790.0             125.0\n",
       "3     900.0             175.0\n",
       "4     980.0             195.0"
      ]
     },
     "execution_count": 1,
     "metadata": {},
     "output_type": "execute_result"
    }
   ],
   "source": [
    "df_burguer = pd.read_csv(\"dataset/burger_simplify.csv\")\n",
    "df_burguer.head()"
   ]
  },
  {
   "cell_type": "markdown",
   "id": "80a05716",
   "metadata": {},
   "source": [
    "Ahora veamos si existen valores nulos y si existen outlayers en nuestras variables a analizar"
   ]
  },
  {
   "cell_type": "code",
   "execution_count": null,
   "id": "e0f312e8",
   "metadata": {},
   "outputs": [
    {
     "name": "stdout",
     "output_type": "stream",
     "text": [
      "Valores nulos por columna:\n",
      "Calories            0\n",
      "Cholesterol (mg)    0\n",
      "dtype: int64\n"
     ]
    }
   ],
   "source": [
    "# Contamos para ver si hay valores nulos por columna\n",
    "print(\"Valores nulos por columna:\")\n",
    "print(df_burguer.isnull().sum())"
   ]
  },
  {
   "cell_type": "code",
   "execution_count": 5,
   "id": "7cafa758",
   "metadata": {},
   "outputs": [
    {
     "data": {
      "image/png": "[encoded data removed]",
      "text/plain": [
       "<Figure size 600x400 with 1 Axes>"
      ]
     },
     "metadata": {},
     "output_type": "display_data"
    }
   ],
   "source": [
    "plt.figure(figsize=(6, 4))\n",
    "sns.boxplot(data=df_burguer)\n",
    "plt.title('Detección de Outliers con Seaborn')\n",
    "plt.show()"
   ]
  },
  {
   "cell_type": "markdown",
   "id": "e5d3d31e",
   "metadata": {},
   "source": [
    "Gracias a los segmentos de codigos anteriores hemos comprobado que no existen filas con valores nulos ni tampoco existen outlayers ahora el siguiente paso es realizar un breve analisis exploratorio de datos pero eso sera en el siguiente notebook"
   ]
  }
 ],
 "metadata": {
  "kernelspec": {
   "display_name": "base",
   "language": "python",
   "name": "python3"
  },
  "language_info": {
   "codemirror_mode": {
    "name": "ipython",
    "version": 3
   },
   "file_extension": ".py",
   "mimetype": "text/x-python",
   "name": "python",
   "nbconvert_exporter": "python",
   "pygments_lexer": "ipython3",
   "version": "3.12.7"
  }
 },
 "nbformat": 4,
 "nbformat_minor": 5
}
